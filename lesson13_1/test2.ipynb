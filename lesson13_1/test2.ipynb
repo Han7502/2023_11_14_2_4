{
 "cells": [
  {
   "cell_type": "code",
   "execution_count": 3,
   "metadata": {},
   "outputs": [],
   "source": [
    "from openpyxl import Workbook\n",
    "wb = Workbook()\n",
    "ws = wb.active\n",
    "wb.save(\"3年5班.xlsx\")#這樣是建立一個3年5班的EXCEL檔"
   ]
  },
  {
   "cell_type": "code",
   "execution_count": 4,
   "metadata": {},
   "outputs": [],
   "source": [
    "from openpyxl import Workbook\n",
    "wb = Workbook()\n",
    "ws = wb.active\n",
    "ws.title=\"3年6班\"\n",
    "wb.save(\"3年6班.xlsx\")#這樣是建立一個3年6班的檔跟3年6班內頁"
   ]
  },
  {
   "cell_type": "code",
   "execution_count": 5,
   "metadata": {},
   "outputs": [],
   "source": [
    "from openpyxl import Workbook\n",
    "wb = Workbook()\n",
    "ws = wb.create_sheet(\"3年7班\")\n",
    "wb.save(\"3年7班.xlsx\")#這樣是建立一個3年7班的檔跟3年7班內頁+1個sheet內頁"
   ]
  },
  {
   "cell_type": "code",
   "execution_count": 6,
   "metadata": {},
   "outputs": [],
   "source": [
    "from openpyxl import Workbook\n",
    "wb = Workbook()\n",
    "ws = wb.active\n",
    "ws.title=\"3年5班\"\n",
    "ws1 = wb.create_sheet(\"3年6班\")#增加新分頁\n",
    "ws2 = wb.create_sheet(\"3年7班\")\n",
    "wb.save(\"3年級.xlsx\")#檔案名"
   ]
  },
  {
   "cell_type": "code",
   "execution_count": 1,
   "metadata": {},
   "outputs": [],
   "source": [
    "from openpyxl import Workbook\n",
    "wb = Workbook()\n",
    "ws = wb.active\n",
    "ws.title=\"3年6班\"\n",
    "ws['A1'] = \"姓名\"\n",
    "ws['B1'] = \"國文\"\n",
    "ws['C1'] = \"英文\"\n",
    "ws['D1'] = \"數學\"\n",
    "ws['E1'] = \"地理\"\n",
    "ws['F1'] = \"歷史\"\n",
    "ws.append(['彭偉妃',62,81,45,60,65])\n",
    "ws.append(['呂傑宣',62,93,97,53,69])\n",
    "ws.append(['謝哲維',51,91,55,69,98])\n",
    "ws1 = wb.create_sheet(\"3年6班\")#增加新分頁\n",
    "ws2 = wb.create_sheet(\"3年7班\")\n",
    "wb.save(\"3年級.xlsx\")#檔案名"
   ]
  }
 ],
 "metadata": {
  "kernelspec": {
   "display_name": "Python 3",
   "language": "python",
   "name": "python3"
  },
  "language_info": {
   "codemirror_mode": {
    "name": "ipython",
    "version": 3
   },
   "file_extension": ".py",
   "mimetype": "text/x-python",
   "name": "python",
   "nbconvert_exporter": "python",
   "pygments_lexer": "ipython3",
   "version": "3.12.2"
  }
 },
 "nbformat": 4,
 "nbformat_minor": 2
}
