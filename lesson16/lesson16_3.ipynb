{
 "cells": [
  {
   "cell_type": "code",
   "execution_count": 1,
   "metadata": {},
   "outputs": [
    {
     "data": {
      "text/html": [
       "<div>\n",
       "<style scoped>\n",
       "    .dataframe tbody tr th:only-of-type {\n",
       "        vertical-align: middle;\n",
       "    }\n",
       "\n",
       "    .dataframe tbody tr th {\n",
       "        vertical-align: top;\n",
       "    }\n",
       "\n",
       "    .dataframe thead th {\n",
       "        text-align: right;\n",
       "    }\n",
       "</style>\n",
       "<table border=\"1\" class=\"dataframe\">\n",
       "  <thead>\n",
       "    <tr style=\"text-align: right;\">\n",
       "      <th></th>\n",
       "      <th>徐國堂</th>\n",
       "      <th>徐佳佳</th>\n",
       "    </tr>\n",
       "  </thead>\n",
       "  <tbody>\n",
       "    <tr>\n",
       "      <th>chinese</th>\n",
       "      <td>78</td>\n",
       "      <td>92</td>\n",
       "    </tr>\n",
       "    <tr>\n",
       "      <th>english</th>\n",
       "      <td>80</td>\n",
       "      <td>60</td>\n",
       "    </tr>\n",
       "    <tr>\n",
       "      <th>math</th>\n",
       "      <td>92</td>\n",
       "      <td>85</td>\n",
       "    </tr>\n",
       "    <tr>\n",
       "      <th>history</th>\n",
       "      <td>75</td>\n",
       "      <td>62</td>\n",
       "    </tr>\n",
       "    <tr>\n",
       "      <th>discover</th>\n",
       "      <td>85</td>\n",
       "      <td>73</td>\n",
       "    </tr>\n",
       "  </tbody>\n",
       "</table>\n",
       "</div>"
      ],
      "text/plain": [
       "          徐國堂  徐佳佳\n",
       "chinese    78   92\n",
       "english    80   60\n",
       "math       92   85\n",
       "history    75   62\n",
       "discover   85   73"
      ]
     },
     "metadata": {},
     "output_type": "display_data"
    }
   ],
   "source": [
    "import pandas as pd\n",
    "\n",
    "scores = [\n",
    "    {'chinese':78,'english':80,'math':92,'history':75,'discover':85},\n",
    "    {'chinese':92,'english':60,'math':85,'history':62,'discover':73}\n",
    "]\n",
    "dataFrame = pd.DataFrame (index=[\"徐國堂\",\"徐佳佳\"],data=scores,)\n",
    "display(dataFrame.T)"
   ]
  },
  {
   "cell_type": "code",
   "execution_count": 2,
   "metadata": {},
   "outputs": [
    {
     "ename": "NameError",
     "evalue": "name 'FontProperties' is not defined",
     "output_type": "error",
     "traceback": [
      "\u001b[0;31m---------------------------------------------------------------------------\u001b[0m",
      "\u001b[0;31mNameError\u001b[0m                                 Traceback (most recent call last)",
      "Cell \u001b[0;32mIn[2], line 3\u001b[0m\n\u001b[1;32m      1\u001b[0m \u001b[38;5;28;01mimport\u001b[39;00m \u001b[38;5;21;01mmatplotlib\u001b[39;00m\u001b[38;5;21;01m.\u001b[39;00m\u001b[38;5;21;01mpyplot\u001b[39;00m \u001b[38;5;28;01mas\u001b[39;00m \u001b[38;5;21;01mplt\u001b[39;00m\n\u001b[1;32m      2\u001b[0m \u001b[38;5;66;03m#windows\u001b[39;00m\n\u001b[0;32m----> 3\u001b[0m font\u001b[38;5;241m=\u001b[39m\u001b[43mFontProperties\u001b[49m(fname\u001b[38;5;241m=\u001b[39m\u001b[38;5;124mr\u001b[39m\u001b[38;5;124m'\u001b[39m\u001b[38;5;124mc:\u001b[39m\u001b[38;5;124m\\\u001b[39m\u001b[38;5;124mwindows\u001b[39m\u001b[38;5;124m\\\u001b[39m\u001b[38;5;124mfonts\u001b[39m\u001b[38;5;124m\\\u001b[39m\u001b[38;5;124msimsun.ttc\u001b[39m\u001b[38;5;124m'\u001b[39m,size\u001b[38;5;241m=\u001b[39m\u001b[38;5;241m8\u001b[39m)  \u001b[38;5;66;03m#轉換中文\u001b[39;00m\n\u001b[1;32m      4\u001b[0m \u001b[38;5;66;03m#mac\u001b[39;00m\n\u001b[1;32m      5\u001b[0m \u001b[38;5;66;03m# font=FontProperties(fname='/Library/Fonts/Arial Unicode.ttf',size=8)\u001b[39;00m\n\u001b[1;32m      6\u001b[0m \u001b[38;5;66;03m#codespace\u001b[39;00m\n\u001b[1;32m      7\u001b[0m \u001b[38;5;66;03m#font=FontProperties(fname='/Library/Fonts/Arial Unicode.ttf',size=8)\u001b[39;00m\n\u001b[1;32m      8\u001b[0m figure \u001b[38;5;241m=\u001b[39m plt\u001b[38;5;241m.\u001b[39mfigure()\n",
      "\u001b[0;31mNameError\u001b[0m: name 'FontProperties' is not defined"
     ]
    }
   ],
   "source": [
    "import matplotlib.pyplot as plt\n",
    "#windows\n",
    "font=FontProperties(fname=r'c:\\windows\\fonts\\simsun.ttc',size=8)  #轉換中文\n",
    "#mac\n",
    "# font=FontProperties(fname='/Library/Fonts/Arial Unicode.ttf',size=8)\n",
    "#codespace\n",
    "#font=FontProperties(fname='/Library/Fonts/Arial Unicode.ttf',size=8)\n",
    "figure = plt.figure()\n",
    "axes = figure.add_subplot(1,1,1) #axes當畫布\n",
    "dataFrame.T.plot(ax=axes,style=['--','-'],marker='o')  #dataFrame來畫\n",
    "axes.set_title('徐國堂和徐佳佳分數比較表',fontproperties=font)\n",
    "axes.grid(visible=True,axis='y')\n",
    "\n",
    "plt.show()"
   ]
  },
  {
   "cell_type": "code",
   "execution_count": null,
   "metadata": {},
   "outputs": [
    {
     "data": {
      "text/plain": [
       "<matplotlib.axis.XAxis at 0x7028d476fb20>"
      ]
     },
     "execution_count": 13,
     "metadata": {},
     "output_type": "execute_result"
    }
   ],
   "source": []
  }
 ],
 "metadata": {
  "kernelspec": {
   "display_name": "Python 3",
   "language": "python",
   "name": "python3"
  },
  "language_info": {
   "codemirror_mode": {
    "name": "ipython",
    "version": 3
   },
   "file_extension": ".py",
   "mimetype": "text/x-python",
   "name": "python",
   "nbconvert_exporter": "python",
   "pygments_lexer": "ipython3",
   "version": "3.10.14"
  }
 },
 "nbformat": 4,
 "nbformat_minor": 2
}
