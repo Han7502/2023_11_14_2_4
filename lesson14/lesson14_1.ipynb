{
 "cells": [
  {
   "cell_type": "code",
   "execution_count": 3,
   "metadata": {},
   "outputs": [
    {
     "name": "stdout",
     "output_type": "stream",
     "text": [
      "下載成功\n"
     ]
    }
   ],
   "source": [
    "import requests\n",
    "url = 'https://www.moeaea.gov.tw/ECW/populace/opendata/wHandOpenData_File.ashx?set_id=252'\n",
    "response:requests.Response = requests.get(url) #利用requests打開網址並回傳\n",
    "if response.status_code == 200:  #response有個功能.status_code可以確認是否有問題\n",
    "    print(\"下載成功\")\n",
    "    data:str = response.text #\n",
    "elif response.status_code >= 400:\n",
    "     print(\"下載失敗\")\n",
    "elif response.status_code >200:\n",
    "     print(\"下載有問題\")\n",
    "\n"
   ]
  },
  {
   "cell_type": "code",
   "execution_count": 5,
   "metadata": {},
   "outputs": [],
   "source": [
    "with open(\"再生能源發電量.csv\", mode='w',encoding='utf8') as file:  #open(file,mode,encoding)要有這些物件\n",
    "    file.write(data)"
   ]
  },
  {
   "cell_type": "code",
   "execution_count": 1,
   "metadata": {},
   "outputs": [
    {
     "name": "stdout",
     "output_type": "stream",
     "text": [
      "{'年份': '98年', '太陽光電(百萬度)': '9.1', '風力發電(百萬度)': '786.6', '慣常水力發電(百萬度)': '3748.3', '生質能發電(百萬度)': '229.3', '地熱發電(百萬度)': '-', '廢棄物(百萬度)': '3036.1', '合計(百萬度)': '7809.5'}\n"
     ]
    }
   ],
   "source": [
    "#讀取CSV,改成python的2維資料\n",
    "import csv\n",
    "with open(\"再生能源發電量.csv\", mode='r' ,encoding='utf8', newline='') as file:\n",
    "    dict_reader = csv.DictReader(file)\n",
    "    csv_data:list[dict] = list(dict_reader)\n",
    "    \n",
    "for item in csv_data:\n",
    "    if item['年份'] == '98年':\n",
    "        print(item)"
   ]
  },
  {
   "cell_type": "code",
   "execution_count": 2,
   "metadata": {},
   "outputs": [
    {
     "data": {
      "text/html": [
       "<div>\n",
       "<style scoped>\n",
       "    .dataframe tbody tr th:only-of-type {\n",
       "        vertical-align: middle;\n",
       "    }\n",
       "\n",
       "    .dataframe tbody tr th {\n",
       "        vertical-align: top;\n",
       "    }\n",
       "\n",
       "    .dataframe thead th {\n",
       "        text-align: right;\n",
       "    }\n",
       "</style>\n",
       "<table border=\"1\" class=\"dataframe\">\n",
       "  <thead>\n",
       "    <tr style=\"text-align: right;\">\n",
       "      <th></th>\n",
       "      <th>年份</th>\n",
       "      <th>太陽光電(百萬度)</th>\n",
       "    </tr>\n",
       "  </thead>\n",
       "  <tbody>\n",
       "    <tr>\n",
       "      <th>0</th>\n",
       "      <td>98年</td>\n",
       "      <td>9.1</td>\n",
       "    </tr>\n",
       "    <tr>\n",
       "      <th>1</th>\n",
       "      <td>99年</td>\n",
       "      <td>21.7</td>\n",
       "    </tr>\n",
       "    <tr>\n",
       "      <th>2</th>\n",
       "      <td>100年</td>\n",
       "      <td>61.6</td>\n",
       "    </tr>\n",
       "    <tr>\n",
       "      <th>3</th>\n",
       "      <td>101年</td>\n",
       "      <td>159.9</td>\n",
       "    </tr>\n",
       "    <tr>\n",
       "      <th>4</th>\n",
       "      <td>102年</td>\n",
       "      <td>321.1</td>\n",
       "    </tr>\n",
       "    <tr>\n",
       "      <th>5</th>\n",
       "      <td>103年</td>\n",
       "      <td>528.8</td>\n",
       "    </tr>\n",
       "    <tr>\n",
       "      <th>6</th>\n",
       "      <td>104年</td>\n",
       "      <td>850.3</td>\n",
       "    </tr>\n",
       "    <tr>\n",
       "      <th>7</th>\n",
       "      <td>105年</td>\n",
       "      <td>1109</td>\n",
       "    </tr>\n",
       "    <tr>\n",
       "      <th>8</th>\n",
       "      <td>106年</td>\n",
       "      <td>1667.5</td>\n",
       "    </tr>\n",
       "    <tr>\n",
       "      <th>9</th>\n",
       "      <td>107年</td>\n",
       "      <td>2703.7</td>\n",
       "    </tr>\n",
       "    <tr>\n",
       "      <th>10</th>\n",
       "      <td>108年</td>\n",
       "      <td>4015.9</td>\n",
       "    </tr>\n",
       "    <tr>\n",
       "      <th>11</th>\n",
       "      <td>109年</td>\n",
       "      <td>6074.7</td>\n",
       "    </tr>\n",
       "    <tr>\n",
       "      <th>12</th>\n",
       "      <td>110年</td>\n",
       "      <td>7970.2</td>\n",
       "    </tr>\n",
       "    <tr>\n",
       "      <th>13</th>\n",
       "      <td>111年</td>\n",
       "      <td>10677</td>\n",
       "    </tr>\n",
       "  </tbody>\n",
       "</table>\n",
       "</div>"
      ],
      "text/plain": [
       "      年份 太陽光電(百萬度)\n",
       "0    98年       9.1\n",
       "1    99年      21.7\n",
       "2   100年      61.6\n",
       "3   101年     159.9\n",
       "4   102年     321.1\n",
       "5   103年     528.8\n",
       "6   104年     850.3\n",
       "7   105年      1109\n",
       "8   106年    1667.5\n",
       "9   107年    2703.7\n",
       "10  108年    4015.9\n",
       "11  109年    6074.7\n",
       "12  110年    7970.2\n",
       "13  111年     10677"
      ]
     },
     "execution_count": 2,
     "metadata": {},
     "output_type": "execute_result"
    }
   ],
   "source": [
    "#使用DataFrame顯示資料\n",
    "import pandas as pd\n",
    "dataFrame = pd.DataFrame(csv_data, columns=['年份','太陽光電(百萬度)',])\n",
    "dataFrame"
   ]
  }
 ],
 "metadata": {
  "kernelspec": {
   "display_name": "Python 3",
   "language": "python",
   "name": "python3"
  },
  "language_info": {
   "codemirror_mode": {
    "name": "ipython",
    "version": 3
   },
   "file_extension": ".py",
   "mimetype": "text/x-python",
   "name": "python",
   "nbconvert_exporter": "python",
   "pygments_lexer": "ipython3",
   "version": "3.10.14"
  }
 },
 "nbformat": 4,
 "nbformat_minor": 2
}
