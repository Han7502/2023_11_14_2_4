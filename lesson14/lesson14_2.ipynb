{
 "cells": [
  {
   "cell_type": "code",
   "execution_count": 3,
   "metadata": {},
   "outputs": [
    {
     "name": "stdout",
     "output_type": "stream",
     "text": [
      "下載成功\n"
     ]
    }
   ],
   "source": [
    "#下載文字檔\n",
    "import requests\n",
    "url = 'https://data.moenv.gov.tw/api/v2/stat_p_90?api_key=e8dd42e6-9b8b-43f8-991e-b3dee723a52d&limit=1000&sort=ImportDate desc&format=CSV'\n",
    "response:requests.Response = requests.get(url) #利用requests打開網址並回傳\n",
    "if response.status_code == 200:  #response有個功能.status_code可以確認是否有問題\n",
    "    print(\"下載成功\")\n",
    "    data:str = response.text #\n",
    "elif response.status_code >= 400:\n",
    "     print(\"下載失敗\")\n",
    "elif response.status_code >200:\n",
    "     print(\"下載有問題\")\n",
    "\n"
   ]
  },
  {
   "cell_type": "code",
   "execution_count": 4,
   "metadata": {},
   "outputs": [],
   "source": [
    "with open(\"列管公廁.csv\", mode='w',encoding='utf8') as file:  #open(file,mode,encoding)要有這些物件\n",
    "    file.write(data)"
   ]
  },
  {
   "cell_type": "code",
   "execution_count": 8,
   "metadata": {},
   "outputs": [
    {
     "name": "stdout",
     "output_type": "stream",
     "text": [
      "{'itemname': '列管公廁個數/不分男女', 'category': '臺南市', 'year': '110', 'itemunit': '個', 'itemvalue': '2446'}\n",
      "{'itemname': '列管公廁個數/女', 'category': '臺南市', 'year': '110', 'itemunit': '個', 'itemvalue': '8168'}\n",
      "{'itemname': '列管公廁個數/男', 'category': '臺南市', 'year': '110', 'itemunit': '個', 'itemvalue': '11931'}\n",
      "{'itemname': '列管公廁個數/總計', 'category': '臺南市', 'year': '110', 'itemunit': '個', 'itemvalue': '22545'}\n",
      "{'itemname': '列管公廁個數/不分男女', 'category': '臺南市', 'year': '109', 'itemunit': '個', 'itemvalue': '1604'}\n",
      "{'itemname': '列管公廁個數/女', 'category': '臺南市', 'year': '109', 'itemunit': '個', 'itemvalue': '8062'}\n",
      "{'itemname': '列管公廁個數/男', 'category': '臺南市', 'year': '109', 'itemunit': '個', 'itemvalue': '12430'}\n",
      "{'itemname': '列管公廁個數/總計', 'category': '臺南市', 'year': '109', 'itemunit': '個', 'itemvalue': '22096'}\n",
      "{'itemname': '列管公廁個數/不分男女', 'category': '臺南市', 'year': '108', 'itemunit': '個', 'itemvalue': '1672'}\n",
      "{'itemname': '列管公廁個數/女', 'category': '臺南市', 'year': '108', 'itemunit': '個', 'itemvalue': '7527'}\n",
      "{'itemname': '列管公廁個數/男', 'category': '臺南市', 'year': '108', 'itemunit': '個', 'itemvalue': '11012'}\n",
      "{'itemname': '列管公廁個數/總計', 'category': '臺南市', 'year': '108', 'itemunit': '個', 'itemvalue': '20211'}\n",
      "{'itemname': '列管公廁個數/不分男女', 'category': '臺南市', 'year': '107', 'itemunit': '個', 'itemvalue': '1426'}\n",
      "{'itemname': '列管公廁個數/女', 'category': '臺南市', 'year': '107', 'itemunit': '個', 'itemvalue': '7446'}\n",
      "{'itemname': '列管公廁個數/男', 'category': '臺南市', 'year': '107', 'itemunit': '個', 'itemvalue': '11008'}\n",
      "{'itemname': '列管公廁個數/總計', 'category': '臺南市', 'year': '107', 'itemunit': '個', 'itemvalue': '19880'}\n",
      "{'itemname': '列管公廁個數/不分男女', 'category': '臺南市', 'year': '106', 'itemunit': '個', 'itemvalue': '1218'}\n",
      "{'itemname': '列管公廁個數/女', 'category': '臺南市', 'year': '106', 'itemunit': '個', 'itemvalue': '8237'}\n",
      "{'itemname': '列管公廁個數/男', 'category': '臺南市', 'year': '106', 'itemunit': '個', 'itemvalue': '12517'}\n",
      "{'itemname': '列管公廁個數/總計', 'category': '臺南市', 'year': '106', 'itemunit': '個', 'itemvalue': '21972'}\n"
     ]
    }
   ],
   "source": [
    "#讀取CSV,改成python的2維資料\n",
    "import csv\n",
    "with open(\"列管公廁.csv\", mode='r' ,encoding='utf8', newline='') as file:\n",
    "    dict_reader = csv.DictReader(file)\n",
    "    csv_data:list[dict] = list(dict_reader)\n",
    "    \n",
    "for item in csv_data:\n",
    "    if item['category'] == '臺南市':\n",
    "        print(item)"
   ]
  },
  {
   "cell_type": "code",
   "execution_count": 12,
   "metadata": {},
   "outputs": [
    {
     "data": {
      "text/html": [
       "<div>\n",
       "<style scoped>\n",
       "    .dataframe tbody tr th:only-of-type {\n",
       "        vertical-align: middle;\n",
       "    }\n",
       "\n",
       "    .dataframe tbody tr th {\n",
       "        vertical-align: top;\n",
       "    }\n",
       "\n",
       "    .dataframe thead th {\n",
       "        text-align: right;\n",
       "    }\n",
       "</style>\n",
       "<table border=\"1\" class=\"dataframe\">\n",
       "  <thead>\n",
       "    <tr style=\"text-align: right;\">\n",
       "      <th></th>\n",
       "      <th>category</th>\n",
       "      <th>year</th>\n",
       "      <th>itemvalue</th>\n",
       "    </tr>\n",
       "  </thead>\n",
       "  <tbody>\n",
       "    <tr>\n",
       "      <th>0</th>\n",
       "      <td>連江縣</td>\n",
       "      <td>110</td>\n",
       "      <td>146</td>\n",
       "    </tr>\n",
       "    <tr>\n",
       "      <th>1</th>\n",
       "      <td>金門縣</td>\n",
       "      <td>110</td>\n",
       "      <td>656</td>\n",
       "    </tr>\n",
       "    <tr>\n",
       "      <th>2</th>\n",
       "      <td>嘉義市</td>\n",
       "      <td>110</td>\n",
       "      <td>269</td>\n",
       "    </tr>\n",
       "    <tr>\n",
       "      <th>3</th>\n",
       "      <td>新竹市</td>\n",
       "      <td>110</td>\n",
       "      <td>311</td>\n",
       "    </tr>\n",
       "    <tr>\n",
       "      <th>4</th>\n",
       "      <td>基隆市</td>\n",
       "      <td>110</td>\n",
       "      <td>477</td>\n",
       "    </tr>\n",
       "    <tr>\n",
       "      <th>...</th>\n",
       "      <td>...</td>\n",
       "      <td>...</td>\n",
       "      <td>...</td>\n",
       "    </tr>\n",
       "    <tr>\n",
       "      <th>455</th>\n",
       "      <td>臺中市</td>\n",
       "      <td>106</td>\n",
       "      <td>29429</td>\n",
       "    </tr>\n",
       "    <tr>\n",
       "      <th>456</th>\n",
       "      <td>桃園市</td>\n",
       "      <td>106</td>\n",
       "      <td>16099</td>\n",
       "    </tr>\n",
       "    <tr>\n",
       "      <th>457</th>\n",
       "      <td>臺北市</td>\n",
       "      <td>106</td>\n",
       "      <td>44131</td>\n",
       "    </tr>\n",
       "    <tr>\n",
       "      <th>458</th>\n",
       "      <td>新北市</td>\n",
       "      <td>106</td>\n",
       "      <td>38333</td>\n",
       "    </tr>\n",
       "    <tr>\n",
       "      <th>459</th>\n",
       "      <td>總計</td>\n",
       "      <td>106</td>\n",
       "      <td>253014</td>\n",
       "    </tr>\n",
       "  </tbody>\n",
       "</table>\n",
       "<p>460 rows × 3 columns</p>\n",
       "</div>"
      ],
      "text/plain": [
       "    category year itemvalue\n",
       "0        連江縣  110       146\n",
       "1        金門縣  110       656\n",
       "2        嘉義市  110       269\n",
       "3        新竹市  110       311\n",
       "4        基隆市  110       477\n",
       "..       ...  ...       ...\n",
       "455      臺中市  106     29429\n",
       "456      桃園市  106     16099\n",
       "457      臺北市  106     44131\n",
       "458      新北市  106     38333\n",
       "459       總計  106    253014\n",
       "\n",
       "[460 rows x 3 columns]"
      ]
     },
     "execution_count": 12,
     "metadata": {},
     "output_type": "execute_result"
    }
   ],
   "source": [
    "#使用DataFrame顯示資料\n",
    "import pandas as pd\n",
    "dataFrame = pd.DataFrame(csv_data, columns=['category','year','itemvalue'])\n",
    "dataFrame"
   ]
  }
 ],
 "metadata": {
  "kernelspec": {
   "display_name": "Python 3",
   "language": "python",
   "name": "python3"
  },
  "language_info": {
   "codemirror_mode": {
    "name": "ipython",
    "version": 3
   },
   "file_extension": ".py",
   "mimetype": "text/x-python",
   "name": "python",
   "nbconvert_exporter": "python",
   "pygments_lexer": "ipython3",
   "version": "3.10.14"
  }
 },
 "nbformat": 4,
 "nbformat_minor": 2
}
