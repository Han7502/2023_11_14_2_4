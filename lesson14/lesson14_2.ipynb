{
 "cells": [
  {
   "cell_type": "code",
   "execution_count": 1,
   "metadata": {},
   "outputs": [
    {
     "name": "stdout",
     "output_type": "stream",
     "text": [
      "下載成功\n"
     ]
    }
   ],
   "source": [
    "#下載文字檔\n",
    "import requests\n",
    "url = 'https://data.moenv.gov.tw/api/v2/stat_p_90?api_key=e8dd42e6-9b8b-43f8-991e-b3dee723a52d&limit=1000&sort=ImportDate desc&format=CSV'\n",
    "response:requests.Response = requests.get(url) #利用requests打開網址並回傳\n",
    "if response.status_code == 200:  #response有個功能.status_code可以確認是否有問題\n",
    "    print(\"下載成功\")\n",
    "    data:str = response.text #\n",
    "elif response.status_code >= 400:\n",
    "     print(\"下載失敗\")\n",
    "elif response.status_code >200:\n",
    "     print(\"下載有問題\")\n",
    "\n"
   ]
  },
  {
   "cell_type": "code",
   "execution_count": 2,
   "metadata": {},
   "outputs": [],
   "source": [
    "with open(\"列管公廁.csv\", mode='w',encoding='utf8') as file:  #open(file,mode,encoding)要有這些物件\n",
    "    file.write(data)"
   ]
  },
  {
   "cell_type": "code",
   "execution_count": 18,
   "metadata": {},
   "outputs": [
    {
     "name": "stdout",
     "output_type": "stream",
     "text": [
      "{'年份': '98年', '太陽光電(百萬度)': '9.1', '風力發電(百萬度)': '786.6', '慣常水力發電(百萬度)': '3748.3', '生質能發電(百萬度)': '229.3', '地熱發電(百萬度)': '-', '廢棄物(百萬度)': '3036.1', '合計(百萬度)': '7809.5'}\n"
     ]
    }
   ],
   "source": [
    "#讀取CSV,改成python的2維資料\n",
    "import csv\n",
    "with open(\"再生能源發電量.csv\", mode='r' ,encoding='utf8', newline='') as file:\n",
    "    dict_reader = csv.DictReader(file)\n",
    "    csv_data:list[dict] = list(dict_reader)\n",
    "    \n",
    "for item in csv_data:\n",
    "    if item['年份'] == '98年':\n",
    "        print(item)"
   ]
  },
  {
   "cell_type": "code",
   "execution_count": null,
   "metadata": {},
   "outputs": [],
   "source": [
    "csv_data"
   ]
  }
 ],
 "metadata": {
  "kernelspec": {
   "display_name": "Python 3",
   "language": "python",
   "name": "python3"
  },
  "language_info": {
   "codemirror_mode": {
    "name": "ipython",
    "version": 3
   },
   "file_extension": ".py",
   "mimetype": "text/x-python",
   "name": "python",
   "nbconvert_exporter": "python",
   "pygments_lexer": "ipython3",
   "version": "3.10.14"
  }
 },
 "nbformat": 4,
 "nbformat_minor": 2
}
