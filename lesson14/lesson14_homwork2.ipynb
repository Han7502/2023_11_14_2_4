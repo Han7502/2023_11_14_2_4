{
 "cells": [
  {
   "cell_type": "code",
   "execution_count": 1,
   "metadata": {},
   "outputs": [
    {
     "name": "stdout",
     "output_type": "stream",
     "text": [
      "下載成功\n"
     ]
    }
   ],
   "source": [
    "#下載文字檔\n",
    "import requests\n",
    "url = 'https://apiservice.mol.gov.tw/OdService/download/A17000000J-030078-6Jo'\n",
    "response:requests.Response = requests.get(url) #利用requests打開網址並回傳\n",
    "if response.status_code == 200:  #response有個功能.status_code可以確認是否有問題\n",
    "    print(\"下載成功\")\n",
    "    data:str = response.text #\n",
    "elif response.status_code >= 400:\n",
    "     print(\"下載失敗\")\n",
    "elif response.status_code >200:\n",
    "     print(\"下載有問題\")"
   ]
  }
 ],
 "metadata": {
  "kernelspec": {
   "display_name": "Python 3",
   "language": "python",
   "name": "python3"
  },
  "language_info": {
   "codemirror_mode": {
    "name": "ipython",
    "version": 3
   },
   "file_extension": ".py",
   "mimetype": "text/x-python",
   "name": "python",
   "nbconvert_exporter": "python",
   "pygments_lexer": "ipython3",
   "version": "3.10.14"
  }
 },
 "nbformat": 4,
 "nbformat_minor": 2
}
