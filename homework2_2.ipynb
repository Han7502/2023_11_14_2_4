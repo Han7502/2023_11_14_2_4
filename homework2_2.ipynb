{
 "cells": [
  {
   "cell_type": "code",
   "execution_count": 15,
   "metadata": {},
   "outputs": [
    {
     "name": "stdout",
     "output_type": "stream",
     "text": [
      "請輸入身高:,單位為(公分)1.77\n",
      "請輸入體重:,單位為(公斤)80\n",
      "您的BMI是25.53545\n",
      "「您的體重過重」\n"
     ]
    }
   ],
   "source": [
    "#請輸入身高,單位為(公分):177\n",
    "#請輸入體重,單位為(公斤):80\n",
    "\n",
    "#您的BMI是25.53544\n",
    "#「您的體重過重」\n",
    "\n",
    "import pyinputplus as pyip\n",
    "\n",
    "heigh = pyip.inputInt(f\"請輸入身高:,單位為(公分)\")\n",
    "print(high)\n",
    "weight = pyip.inputInt(f\"請輸入體重:,單位為(公斤)\")\n",
    "print(weight)\n",
    "\n",
    "BMI = weight/(heigh*0.01)**2\n",
    "print(f\"您的BMI是{BMI:.5f}\")\n",
    "\n",
    "if BMI<18.5:\n",
    "    print(f\"「您的體重過輕」\")\n",
    "elif BMI < 24:\n",
    "    print(f\"「您的體重正常」\")\n",
    "elif BMI < 27:\n",
    "    print(f\"「您的體重過重」\")\n",
    "elif BMI < 30:\n",
    "    print(f\"「您的體重輕度肥胖」\")\n",
    "elif BMI < 35:\n",
    "    print(f\"「您的體重中度肥胖」\")\n",
    "else:\n",
    "    print(f\"「您的體重重度肥胖」\")\n"
   ]
  },
  {
   "cell_type": "code",
   "execution_count": 19,
   "metadata": {},
   "outputs": [
    {
     "name": "stdout",
     "output_type": "stream",
     "text": [
      "請輸入整數,求所有因數:10\n",
      "10的因數有:1 2 5 10 "
     ]
    }
   ],
   "source": [
    "#num = int(input(\"請輸入整數，求所有因數:\"))\n",
    "\n",
    "import pyinputplus as pyip \n",
    "a = pyip.inputInt(f\"請輸入整數,求所有因數:\")\n",
    "print(a)\n",
    "print(f\"{a}的因數有:\",end=\"\")\n",
    "\n",
    "for i in range(1,a+1,+1):\n",
    "    b=a%i\n",
    "    if(b==0):\n",
    "        print(i,end=\" \")"
   ]
  }
 ],
 "metadata": {
  "kernelspec": {
   "display_name": "Python 3",
   "language": "python",
   "name": "python3"
  },
  "language_info": {
   "codemirror_mode": {
    "name": "ipython",
    "version": 3
   },
   "file_extension": ".py",
   "mimetype": "text/x-python",
   "name": "python",
   "nbconvert_exporter": "python",
   "pygments_lexer": "ipython3",
   "version": "3.10.13"
  }
 },
 "nbformat": 4,
 "nbformat_minor": 2
}
