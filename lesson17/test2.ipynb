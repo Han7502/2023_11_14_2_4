{
 "cells": [
  {
   "cell_type": "code",
   "execution_count": 11,
   "metadata": {},
   "outputs": [],
   "source": [
    "import pandas as pd\n",
    "#將csv直接轉換成dataframe\n",
    "dataFrame1 = pd.read_csv('上市公司基本資料.csv')\n",
    "dataFrame2 = dataFrame1.reindex(columns=['公司代號','公司簡稱','英文簡稱','傳真機號碼','網址'])\n",
    "dataFrame2.index = dataFrame2['公司代號']\n",
    "dataFrame3 = dataFrame2.drop(columns=['公司代號'])\n",
    "dataFrame3\n",
    "dataFrame3.to_excel('上市公司基本資料.xlsx')"
   ]
  },
  {
   "cell_type": "code",
   "execution_count": null,
   "metadata": {},
   "outputs": [],
   "source": []
  }
 ],
 "metadata": {
  "kernelspec": {
   "display_name": "Python 3",
   "language": "python",
   "name": "python3"
  },
  "language_info": {
   "codemirror_mode": {
    "name": "ipython",
    "version": 3
   },
   "file_extension": ".py",
   "mimetype": "text/x-python",
   "name": "python",
   "nbconvert_exporter": "python",
   "pygments_lexer": "ipython3",
   "version": "3.10.14"
  }
 },
 "nbformat": 4,
 "nbformat_minor": 2
}
