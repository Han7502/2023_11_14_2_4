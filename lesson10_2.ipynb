{
 "cells": [
  {
   "cell_type": "code",
   "execution_count": 18,
   "metadata": {},
   "outputs": [],
   "source": [
    "with open('names.txt',mode='r',encoding='utf-8') as file:#打開names檔案,模式讀取,格式=utf-8中文\n",
    "    names:str = file.read() #\n",
    "    \n",
    "nameList:list[str]=names.split('\\n')\n",
    "\n"
   ]
  },
  {
   "cell_type": "code",
   "execution_count": 4,
   "metadata": {},
   "outputs": [
    {
     "name": "stdout",
     "output_type": "stream",
     "text": [
      "命名選取器(請輸入1~10)您有以下的建議名字:\n",
      "['林建勳', '李美洋', '陳樂紫', '王坤安', '林益妏']\n"
     ]
    }
   ],
   "source": [
    "import random\n",
    "import pyinputplus as pyip\n",
    "\n",
    "numbers:int = pyip.inputInt(\"命名選取器(請輸入1~10)\",min=1,max=10)\n",
    "print(\"您有以下的建議名字:\")\n",
    "namePart:list[str] = random.choices(nameList,k=numbers)\n",
    "print(namePart)"
   ]
  },
  {
   "cell_type": "code",
   "execution_count": 5,
   "metadata": {},
   "outputs": [
    {
     "data": {
      "text/plain": [
       "[56, 78, 92, 87, 95]"
      ]
     },
     "execution_count": 5,
     "metadata": {},
     "output_type": "execute_result"
    }
   ],
   "source": [
    "[56,78,92,87,95]\n",
    "\n",
    "\n"
   ]
  },
  {
   "cell_type": "code",
   "execution_count": 12,
   "metadata": {},
   "outputs": [
    {
     "data": {
      "text/plain": [
       "[53, 56, 78, 84, 45]"
      ]
     },
     "execution_count": 12,
     "metadata": {},
     "output_type": "execute_result"
    }
   ],
   "source": [
    "import random\n",
    "[random.randint(40,100),random.randint(40,100),random.randint(40,100),random.randint(40,100),random.randint(40,100)]"
   ]
  },
  {
   "cell_type": "code",
   "execution_count": 11,
   "metadata": {},
   "outputs": [
    {
     "data": {
      "text/plain": [
       "[45, 77, 56, 69, 70]"
      ]
     },
     "execution_count": 11,
     "metadata": {},
     "output_type": "execute_result"
    }
   ],
   "source": [
    "stu:list[int] = []\n",
    "scores_nums:int = 5\n",
    "for i in range(scores_nums):\n",
    "    stu.append(random.randint(40,100))\n",
    "stu\n"
   ]
  },
  {
   "cell_type": "code",
   "execution_count": 23,
   "metadata": {},
   "outputs": [
    {
     "name": "stdout",
     "output_type": "stream",
     "text": [
      "請輸入學生的人數(1~50):30\n",
      "請輸入科目數(1~7):5\n"
     ]
    },
    {
     "data": {
      "text/plain": [
       "[['陳孝邦', 52, 69, 53, 95, 66],\n",
       " ['昌嘉洋', 83, 53, 45, 54, 76],\n",
       " ['謝南慧', 82, 99, 45, 60, 75],\n",
       " ['李蓉瑞', 81, 63, 52, 45, 87],\n",
       " ['黃政甫', 73, 78, 50, 82, 91],\n",
       " ['白世宏', 57, 53, 76, 94, 64],\n",
       " ['王人仰', 71, 83, 88, 98, 62],\n",
       " ['林瑞喬', 88, 49, 83, 83, 87],\n",
       " ['鄭孟芳', 65, 72, 54, 73, 66],\n",
       " ['胡淑貞', 53, 57, 100, 49, 70],\n",
       " ['謝水儒', 46, 73, 45, 59, 45],\n",
       " ['陳慧君', 73, 50, 90, 76, 52],\n",
       " ['呂傑宣', 68, 87, 56, 59, 96],\n",
       " ['林冠蕙', 65, 64, 83, 53, 73],\n",
       " ['彭茹靖', 61, 100, 78, 41, 61],\n",
       " ['林思賢', 88, 80, 73, 42, 74],\n",
       " ['唐雪豪', 77, 88, 96, 77, 53],\n",
       " ['羅幸娥', 52, 41, 63, 90, 86],\n",
       " ['龔姵君', 68, 74, 78, 90, 51],\n",
       " ['蒙淑惠', 93, 94, 90, 49, 56],\n",
       " ['蕭淑華', 71, 58, 51, 92, 71],\n",
       " ['王怡君', 70, 71, 40, 42, 55],\n",
       " ['翁羽威', 75, 80, 41, 69, 45],\n",
       " ['陳筱涵', 83, 43, 76, 55, 78],\n",
       " ['潘英迪', 64, 83, 42, 42, 64],\n",
       " ['陳得映', 78, 94, 85, 66, 77],\n",
       " ['謝貞妃', 63, 46, 59, 99, 97],\n",
       " ['陳得映', 42, 88, 77, 80, 87],\n",
       " ['謝貞妃', 98, 74, 79, 47, 89],\n",
       " ['林柏洋', 42, 66, 71, 54, 59]]"
      ]
     },
     "execution_count": 23,
     "metadata": {},
     "output_type": "execute_result"
    }
   ],
   "source": [
    "student_nums = pyip.inputInt(\"請輸入學生的人數(1~50):\",min=1,max=50)\n",
    "print(student_nums)\n",
    "scores_nums:int = pyip.inputInt(\"請輸入科目數(1~7):\",min=1,max=7)\n",
    "print(scores_nums)\n",
    "\n",
    "students:list[list] = []\n",
    "\n",
    "names:list[str] = random.choices(nameList, k=student_nums)\n",
    "for name in names:\n",
    "    stu:list[int|str] = []\n",
    "    stu.append(name)\n",
    "    for i in range(scores_nums):\n",
    "        stu.append(random.randint(40,100))\n",
    "    students.append(stu)\n",
    "\n",
    "students\n",
    "    #print(stu)"
   ]
  }
 ],
 "metadata": {
  "kernelspec": {
   "display_name": "Python 3",
   "language": "python",
   "name": "python3"
  },
  "language_info": {
   "codemirror_mode": {
    "name": "ipython",
    "version": 3
   },
   "file_extension": ".py",
   "mimetype": "text/x-python",
   "name": "python",
   "nbconvert_exporter": "python",
   "pygments_lexer": "ipython3",
   "version": "3.10.13"
  }
 },
 "nbformat": 4,
 "nbformat_minor": 2
}
