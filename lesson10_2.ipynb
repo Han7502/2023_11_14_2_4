{
 "cells": [
  {
   "cell_type": "code",
   "execution_count": 2,
   "metadata": {},
   "outputs": [],
   "source": [
    "with open('names.txt',mode='r',encoding='utf-8') as file:\n",
    "    names:str = file.read() #\n",
    "    \n",
    "nameList:list[str]=names.split('\\n')\n",
    "\n"
   ]
  },
  {
   "cell_type": "code",
   "execution_count": 4,
   "metadata": {},
   "outputs": [
    {
     "name": "stdout",
     "output_type": "stream",
     "text": [
      "命名選取器(請輸入1~10)您有以下的建議名字:\n",
      "['林建勳', '李美洋', '陳樂紫', '王坤安', '林益妏']\n"
     ]
    }
   ],
   "source": [
    "import random\n",
    "import pyinputplus as pyip\n",
    "\n",
    "numbers:int = pyip.inputInt(\"命名選取器(請輸入1~10)\",min=1,max=10)\n",
    "print(\"您有以下的建議名字:\")\n",
    "namePart:list[str] = random.choices(nameList,k=numbers)\n",
    "print(namePart)"
   ]
  },
  {
   "cell_type": "code",
   "execution_count": 5,
   "metadata": {},
   "outputs": [
    {
     "data": {
      "text/plain": [
       "[56, 78, 92, 87, 95]"
      ]
     },
     "execution_count": 5,
     "metadata": {},
     "output_type": "execute_result"
    }
   ],
   "source": [
    "[56,78,92,87,95]\n",
    "\n",
    "\n"
   ]
  },
  {
   "cell_type": "code",
   "execution_count": 12,
   "metadata": {},
   "outputs": [
    {
     "data": {
      "text/plain": [
       "[53, 56, 78, 84, 45]"
      ]
     },
     "execution_count": 12,
     "metadata": {},
     "output_type": "execute_result"
    }
   ],
   "source": [
    "import random\n",
    "[random.randint(40,100),random.randint(40,100),random.randint(40,100),random.randint(40,100),random.randint(40,100)]"
   ]
  },
  {
   "cell_type": "code",
   "execution_count": 11,
   "metadata": {},
   "outputs": [
    {
     "data": {
      "text/plain": [
       "[45, 77, 56, 69, 70]"
      ]
     },
     "execution_count": 11,
     "metadata": {},
     "output_type": "execute_result"
    }
   ],
   "source": [
    "stu:list[int] = []\n",
    "scores_nums:int = 5\n",
    "for i in range(scores_nums):\n",
    "    stu.append(random.randint(40,100))\n",
    "stu\n"
   ]
  },
  {
   "cell_type": "code",
   "execution_count": 17,
   "metadata": {},
   "outputs": [
    {
     "name": "stdout",
     "output_type": "stream",
     "text": [
      "請輸入學生的人數(1~50):50\n",
      "['羅幸娥', 70, 72, 73, 43, 54]\n",
      "['陳建豪', 78, 96, 56, 95, 46]\n",
      "['郭淑枝', 88, 99, 98, 43, 79]\n",
      "['高士凱', 63, 99, 98, 87, 53]\n",
      "['游淑惠', 68, 58, 93, 87, 46]\n",
      "['藍姿婷', 51, 71, 70, 52, 75]\n",
      "['黃麗美', 81, 48, 56, 56, 64]\n",
      "['李湘婷', 45, 73, 94, 59, 63]\n",
      "['王惠皓', 96, 55, 85, 100, 85]\n",
      "['林佳人', 73, 75, 62, 40, 85]\n",
      "['蔡欣汝', 45, 68, 41, 43, 55]\n",
      "['馮耀中', 86, 56, 82, 45, 94]\n",
      "['簡美君', 49, 97, 44, 55, 53]\n",
      "['王梅劭', 76, 87, 47, 73, 71]\n",
      "['葉志峰', 62, 79, 52, 81, 47]\n",
      "['唐雪豪', 71, 66, 62, 87, 99]\n",
      "['王筱婷', 74, 48, 77, 100, 89]\n",
      "['王怡珊', 48, 55, 49, 40, 44]\n",
      "['鄭孟芳', 49, 67, 70, 46, 100]\n",
      "['張凡成', 75, 40, 78, 61, 98]\n",
      "['李蓉瑞', 68, 86, 71, 70, 59]\n",
      "['楊韋廷', 69, 64, 48, 80, 46]\n",
      "['吳淑惠', 56, 92, 50, 51, 87]\n",
      "['劉雯芬', 82, 90, 95, 100, 52]\n",
      "['潘俊賢', 93, 61, 69, 69, 95]\n",
      "['林冠蕙', 87, 88, 91, 89, 67]\n",
      "['劉旭士', 43, 44, 69, 58, 69]\n",
      "['蕭怡伶', 96, 47, 76, 69, 82]\n",
      "['林佳蓉', 51, 81, 77, 78, 67]\n",
      "['陳建香', 74, 52, 42, 90, 49]\n",
      "['劉慧君', 59, 91, 71, 82, 47]\n",
      "['盧必妍', 99, 46, 98, 83, 93]\n",
      "['葉軍仰', 69, 79, 74, 49, 72]\n",
      "['王明昇', 43, 57, 79, 90, 78]\n",
      "['傅佳琳', 79, 45, 43, 66, 95]\n",
      "['簡佳樺', 76, 68, 97, 95, 96]\n",
      "['沈心利', 41, 51, 97, 47, 79]\n",
      "['林建勳', 83, 90, 63, 97, 43]\n",
      "['楊少亮', 80, 78, 55, 95, 89]\n",
      "['柯韋成', 70, 46, 80, 43, 67]\n",
      "['溫重意', 56, 52, 86, 98, 51]\n",
      "['陳慧君', 75, 85, 53, 70, 81]\n",
      "['林向鈺', 73, 83, 97, 95, 53]\n",
      "['彭茹靖', 97, 79, 53, 90, 87]\n",
      "['臧怡君', 98, 68, 92, 61, 89]\n",
      "['陳怡珊', 47, 82, 90, 54, 86]\n",
      "['林康亮', 61, 89, 60, 57, 52]\n",
      "['張彥博', 62, 66, 67, 56, 52]\n",
      "['黃婷婷', 73, 78, 75, 75, 84]\n",
      "['林士凱', 55, 97, 56, 79, 83]\n"
     ]
    }
   ],
   "source": [
    "student_nums = pyip.inputInt(\"請輸入學生的人數(1~50):\",min=1,max=50)\n",
    "print(student_nums)\n",
    "names:list[str] = random.choices(nameList, k=student_nums)\n",
    "for name in names:\n",
    "    stu:list[int|str] = []\n",
    "    stu.append(name)\n",
    "    scores_nums:int = 5\n",
    "    for i in range(scores_nums):\n",
    "        stu.append(random.randint(40,100))\n",
    "    print(stu)"
   ]
  }
 ],
 "metadata": {
  "kernelspec": {
   "display_name": "Python 3",
   "language": "python",
   "name": "python3"
  },
  "language_info": {
   "codemirror_mode": {
    "name": "ipython",
    "version": 3
   },
   "file_extension": ".py",
   "mimetype": "text/x-python",
   "name": "python",
   "nbconvert_exporter": "python",
   "pygments_lexer": "ipython3",
   "version": "3.10.13"
  }
 },
 "nbformat": 4,
 "nbformat_minor": 2
}
