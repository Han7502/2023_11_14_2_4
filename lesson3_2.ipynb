{
 "cells": [
  {
   "cell_type": "code",
   "execution_count": 1,
   "metadata": {},
   "outputs": [
    {
     "name": "stdout",
     "output_type": "stream",
     "text": [
      "3個數相加的總和是9\n"
     ]
    }
   ],
   "source": [
    "total=0\n",
    "value=eval(input(\"請輸入第1個數值\"))\n",
    "total=total+value\n",
    "\n",
    "value=eval(input(\"請輸入第2個數值\"))\n",
    "total=total+value\n",
    "\n",
    "value=eval(input(\"請輸入第3個數值\"))\n",
    "total=total+value\n",
    "\n",
    "print(f\"3個數相加的總和是{total}\")"
   ]
  }
 ],
 "metadata": {
  "kernelspec": {
   "display_name": "Python 3",
   "language": "python",
   "name": "python3"
  },
  "language_info": {
   "codemirror_mode": {
    "name": "ipython",
    "version": 3
   },
   "file_extension": ".py",
   "mimetype": "text/x-python",
   "name": "python",
   "nbconvert_exporter": "python",
   "pygments_lexer": "ipython3",
   "version": "3.10.13"
  }
 },
 "nbformat": 4,
 "nbformat_minor": 2
}
