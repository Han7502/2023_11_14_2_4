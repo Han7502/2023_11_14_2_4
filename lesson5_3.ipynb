{
 "cells": [
  {
   "cell_type": "code",
   "execution_count": 9,
   "metadata": {},
   "outputs": [
    {
     "name": "stdout",
     "output_type": "stream",
     "text": [
      "請輸入學生分數(1~100):79\n",
      "及格\n"
     ]
    }
   ],
   "source": [
    "#請輸入學生分數0-100\n",
    "#0-59不及格\n",
    "#60-79及格\n",
    "#80-100優\n",
    "\n",
    "import pyinputplus as pyip\n",
    "\n",
    "scores = pyip.inputInt(\"請輸入學生分數(1~100):\" ,max=100,min=0)\n",
    "print(scores)\n",
    "if scores <60:\n",
    "    print(\"不及格\")\n",
    "else:\n",
    "    if scores <80:\n",
    "        print(\"及格\")\n",
    "    else:\n",
    "        print(\"優\")"
   ]
  },
  {
   "cell_type": "code",
   "execution_count": null,
   "metadata": {},
   "outputs": [],
   "source": [
    "#請輸入學生分數0-100\n",
    "#0-59不及格\n",
    "#60-79及格\n",
    "#80-100優\n",
    "\n",
    "import pyinputplus as pyip\n",
    "\n",
    "scores = pyip.inputInt(\"請輸入學生分數(1~100):\" ,max=100,min=0)\n",
    "print(scores)\n",
    "#多項選擇\n",
    "if scores <60:\n",
    "    print(\"不及格\")\n",
    "elif scores <80:\n",
    "    print(\"及格\")\n",
    "else:\n",
    "    print(\"優\")"
   ]
  },
  {
   "cell_type": "code",
   "execution_count": 10,
   "metadata": {},
   "outputs": [
    {
     "name": "stdout",
     "output_type": "stream",
     "text": [
      "請輸入學生分數(1~100):80\n",
      "甲\n"
     ]
    }
   ],
   "source": [
    "# 90(含)~100分為「優」\n",
    "# 80(含)~89分為「甲」\n",
    "# 70(含)~79分為「乙」\n",
    "# 60(含)~69分為「丙」\n",
    "# 0(含)~59分為「丁」\n",
    "\n",
    "import pyinputplus as pyip\n",
    "\n",
    "scores = pyip.inputInt(\"請輸入學生分數(1~100):\",max=100,min=0)\n",
    "print(scores)\n",
    "#多項選擇\n",
    "if scores < 60:\n",
    "    print(\"丁\")\n",
    "elif scores < 70:    \n",
    "    print(\"丙\")\n",
    "elif scores < 80:\n",
    "    print(\"乙\")\n",
    "elif scores < 90:\n",
    "    print(\"甲\")\n",
    "else:\n",
    "    print(\"優\")\n",
    "   "
   ]
  },
  {
   "cell_type": "code",
   "execution_count": 13,
   "metadata": {},
   "outputs": [
    {
     "name": "stdout",
     "output_type": "stream",
     "text": [
      "請輸入學生分數(1~100):59\n",
      "丁\n"
     ]
    }
   ],
   "source": [
    "#作業1\n",
    "# 90(含)~100分為「優」\n",
    "# 80(含)~89分為「甲」\n",
    "# 70(含)~79分為「乙」\n",
    "# 60(含)~69分為「丙」\n",
    "# 0(含)~59分為「丁」\n",
    "\n",
    "import pyinputplus as pyip\n",
    "\n",
    "scores = pyip.inputInt(\"請輸入學生分數(1~100):\",max=100,min=0)\n",
    "print(scores)\n",
    "#多項選擇\n",
    "if scores >=90:\n",
    "    print(\"優\")\n",
    "elif scores >=80:    \n",
    "    print(\"甲\")\n",
    "elif scores >=70:\n",
    "    print(\"乙\")\n",
    "elif scores >=60:\n",
    "    print(\"丙\")\n",
    "else:\n",
    "    print(\"丁\")"
   ]
  },
  {
   "cell_type": "code",
   "execution_count": 10,
   "metadata": {},
   "outputs": [
    {
     "name": "stdout",
     "output_type": "stream",
     "text": [
      "請輸入購買金額:130000\n",
      "實付金額是:104000.0元\n"
     ]
    }
   ],
   "source": [
    "#作業2\n",
    "#100000元打8折.\n",
    "#50000打85折.\n",
    "#30000打9折.\n",
    "#10000打95折.\n",
    "\n",
    "import pyinputplus as pyip\n",
    "\n",
    "money = pyip.inputInt(\"請輸入購買金額:\")\n",
    "print(money)\n",
    "#多項選擇\n",
    "if money >=100000:\n",
    "    money *=0.8\n",
    "    \n",
    "elif money>=50000:\n",
    "    money*=0.85\n",
    "\n",
    "elif money>=30000:\n",
    "    money*=0.9\n",
    "\n",
    "elif money>=10000:\n",
    "    money*=0.95\n",
    "print(f\"實付金額是:{money:.1f}元\")"
   ]
  }
 ],
 "metadata": {
  "kernelspec": {
   "display_name": "Python 3",
   "language": "python",
   "name": "python3"
  },
  "language_info": {
   "codemirror_mode": {
    "name": "ipython",
    "version": 3
   },
   "file_extension": ".py",
   "mimetype": "text/x-python",
   "name": "python",
   "nbconvert_exporter": "python",
   "pygments_lexer": "ipython3",
   "version": "3.10.13"
  }
 },
 "nbformat": 4,
 "nbformat_minor": 2
}
