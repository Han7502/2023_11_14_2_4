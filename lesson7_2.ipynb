{
 "cells": [
  {
   "cell_type": "code",
   "execution_count": 9,
   "metadata": {},
   "outputs": [
    {
     "name": "stdout",
     "output_type": "stream",
     "text": [
      "猜數字範圍1~100:5\n",
      "再大一點\n",
      "您猜了1次\n",
      "============================\n",
      "猜數字範圍6~100:80\n",
      "再小一點\n",
      "猜數字範圍6~79:50\n",
      "再小一點\n",
      "猜數字範圍6~49:35\n",
      "再小一點\n",
      "猜數字範圍6~34:35\n",
      "再小一點\n",
      "猜數字範圍6~34:20\n",
      "再大一點\n",
      "您猜了6次\n",
      "============================\n",
      "猜數字範圍21~34:25\n",
      "再小一點\n",
      "猜數字範圍21~24:26\n",
      "再小一點\n",
      "猜數字範圍21~25:27\n",
      "再小一點\n",
      "猜數字範圍21~26:29\n",
      "再小一點\n",
      "猜數字範圍21~28:22\n",
      "再小一點\n",
      "猜數字範圍21~21:23\n",
      "再小一點\n",
      "猜數字範圍21~22:21\n",
      "賓果!答對了,答案是:21\n",
      "您猜了13次\n",
      "===========猜數字遊戲============\n"
     ]
    }
   ],
   "source": [
    "import pyinputplus as pyip\n",
    "import random\n",
    "min=1\n",
    "max=100\n",
    "count = 0\n",
    "random_number = random.randint(min,max)\n",
    "\n",
    "while True:\n",
    "    keyin = pyip.inputInt(f\"猜數字範圍{min}~{max}:\")\n",
    "    count += 1\n",
    "    print(keyin)\n",
    "    if keyin == random_number:\n",
    "        print(f\"賓果!答對了,答案是:{random_number}\")\n",
    "        print(f\"您猜了{count}次\")\n",
    "        break\n",
    "\n",
    "    elif keyin > random_number:\n",
    "        print(f\"再小一點\")\n",
    "        max = keyin - 1\n",
    "    elif keyin < random_number:\n",
    "        print(f\"再大一點\")\n",
    "        min = keyin + 1 \n",
    "        print(f\"您猜了{count}次\")\n",
    "        print(\"============================\")\n",
    "\n",
    "print(\"===========猜數字遊戲============\")"
   ]
  },
  {
   "cell_type": "code",
   "execution_count": null,
   "metadata": {},
   "outputs": [],
   "source": []
  }
 ],
 "metadata": {
  "kernelspec": {
   "display_name": "Python 3",
   "language": "python",
   "name": "python3"
  },
  "language_info": {
   "codemirror_mode": {
    "name": "ipython",
    "version": 3
   },
   "file_extension": ".py",
   "mimetype": "text/x-python",
   "name": "python",
   "nbconvert_exporter": "python",
   "pygments_lexer": "ipython3",
   "version": "3.10.13"
  }
 },
 "nbformat": 4,
 "nbformat_minor": 2
}
