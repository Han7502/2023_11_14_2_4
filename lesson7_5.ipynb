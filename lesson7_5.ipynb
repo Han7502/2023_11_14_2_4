{
 "cells": [
  {
   "cell_type": "code",
   "execution_count": 1,
   "metadata": {},
   "outputs": [
    {
     "name": "stdout",
     "output_type": "stream",
     "text": [
      "Hello!\n"
     ]
    }
   ],
   "source": [
    "#沒有參數,沒有值出值\n",
    "\n",
    "def sayHello():#自訂function\n",
    "    print(\"Hello!\")\n",
    "\n",
    "#function可以重複呼叫(function需要呼叫才會出現)\n",
    "sayHello()\n"
   ]
  },
  {
   "cell_type": "code",
   "execution_count": 2,
   "metadata": {},
   "outputs": [
    {
     "name": "stdout",
     "output_type": "stream",
     "text": [
      "===========猜數字遊戲============\n",
      "猜數字範圍1~100:50\n",
      "再大一點\n",
      "您猜了1次\n",
      "============================\n",
      "猜數字範圍51~100:80\n",
      "再小一點\n",
      "猜數字範圍51~79:66\n",
      "賓果!答對了,答案是:66\n",
      "您猜了3次\n",
      "請問還要繼續嗎?(y,n)===========猜數字遊戲============\n",
      "猜數字範圍1~100:'n' is not an integer.\n",
      "猜數字範圍1~100:100\n",
      "再小一點\n",
      "猜數字範圍1~99:50\n",
      "再大一點\n",
      "您猜了2次\n",
      "============================\n",
      "猜數字範圍51~99:70\n",
      "再小一點\n",
      "猜數字範圍51~69:60\n",
      "再大一點\n",
      "您猜了4次\n",
      "============================\n",
      "猜數字範圍61~69:66\n",
      "再小一點\n",
      "猜數字範圍61~65:63\n",
      "再大一點\n",
      "您猜了6次\n",
      "============================\n",
      "猜數字範圍64~65:62\n",
      "再大一點\n",
      "您猜了7次\n",
      "============================\n",
      "猜數字範圍63~65:64\n",
      "再大一點\n",
      "您猜了8次\n",
      "============================\n",
      "猜數字範圍65~65:65\n",
      "賓果!答對了,答案是:65\n",
      "您猜了9次\n",
      "請問還要繼續嗎?(y,n)遊戲結束\n"
     ]
    }
   ],
   "source": [
    "#function 代表功能\n",
    "#可以讓邏輯思考變簡單\n",
    "import pyinputplus as pyip\n",
    "import random\n",
    "\n",
    "def playGame():\n",
    "    min=1\n",
    "    max=100\n",
    "    count = 0\n",
    "    random_number = random.randint(min,max)\n",
    "    print(\"===========猜數字遊戲============\")\n",
    "\n",
    "    while True:\n",
    "        keyin = pyip.inputInt(f\"猜數字範圍{min}~{max}:\")\n",
    "        count += 1\n",
    "        print(keyin)\n",
    "        if keyin == random_number:\n",
    "            print(f\"賓果!答對了,答案是:{random_number}\")\n",
    "            print(f\"您猜了{count}次\")\n",
    "            break\n",
    "\n",
    "        elif keyin > random_number:\n",
    "            print(f\"再小一點\")\n",
    "            max = keyin - 1\n",
    "        elif keyin < random_number:\n",
    "            print(f\"再大一點\")\n",
    "            min = keyin + 1 \n",
    "            print(f\"您猜了{count}次\")\n",
    "            print(\"============================\")\n",
    "while(True):\n",
    "    playGame()\n",
    "    is_continue = pyip.inputYesNo(\"請問還要繼續嗎?(y,n)\")\n",
    "    if is_continue != \"yes\":\n",
    "        break\n",
    "print(\"遊戲結束\")"
   ]
  }
 ],
 "metadata": {
  "kernelspec": {
   "display_name": "Python 3",
   "language": "python",
   "name": "python3"
  },
  "language_info": {
   "codemirror_mode": {
    "name": "ipython",
    "version": 3
   },
   "file_extension": ".py",
   "mimetype": "text/x-python",
   "name": "python",
   "nbconvert_exporter": "python",
   "pygments_lexer": "ipython3",
   "version": "3.10.13"
  }
 },
 "nbformat": 4,
 "nbformat_minor": 2
}
