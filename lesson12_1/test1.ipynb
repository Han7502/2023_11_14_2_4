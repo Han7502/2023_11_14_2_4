{
 "cells": [
  {
   "cell_type": "code",
   "execution_count": 9,
   "metadata": {},
   "outputs": [],
   "source": [
    "stu1 = {\n",
    "    '姓名':'陳怡伶',\n",
    "    '國文':89,\n",
    "    '英文':92,\n",
    "    '數學':83,\n",
    "    '地理':91,\n",
    "    '歷史':65,\n",
    "    }\n",
    "stu2 = {\n",
    "    '姓名':'馮芳如',\n",
    "    '國文':92,\n",
    "    '英文':75,\n",
    "    '數學':92,\n",
    "    '地理':89,\n",
    "    '歷史':77,\n",
    "    }\n"
   ]
  },
  {
   "cell_type": "code",
   "execution_count": 10,
   "metadata": {},
   "outputs": [
    {
     "data": {
      "text/plain": [
       "[{'姓名': '陳怡伶', '國文': 89, '英文': 92, '數學': 83, '地理': 91, '歷史': 65},\n",
       " {'姓名': '馮芳如', '國文': 92, '英文': 75, '數學': 92, '地理': 89, '歷史': 77}]"
      ]
     },
     "execution_count": 10,
     "metadata": {},
     "output_type": "execute_result"
    }
   ],
   "source": [
    "students = [stu1,stu2]\n",
    "students"
   ]
  },
  {
   "cell_type": "code",
   "execution_count": 16,
   "metadata": {},
   "outputs": [],
   "source": [
    "from random import randint,choices\n",
    "\n",
    "def getStudents(nums) -> list[dict]:\n",
    "    students:list[dict] = []\n",
    "    with open('names.txt',mode='r',encoding='utf-8') as file:\n",
    "        names:str = file.read()\n",
    "    nameList:list[str]=names.split('\\n') \n",
    "    names:list[str] = choices(nameList, k=nums)\n",
    "    \n",
    "    for i in range(nums):\n",
    "        stu = {\n",
    "        '姓名':names[i],\n",
    "        '國文':randint(45,100),\n",
    "        '英文':randint(45,100),\n",
    "        '數學':randint(45,100),\n",
    "        '地理':randint(45,100),\n",
    "        '歷史':randint(45,100),\n",
    "        }\n",
    "        students.append(stu)\n",
    "    \n",
    "    return students\n",
    "    \n"
   ]
  },
  {
   "cell_type": "code",
   "execution_count": 17,
   "metadata": {},
   "outputs": [
    {
     "name": "stdout",
     "output_type": "stream",
     "text": [
      "請輸入學生的人數(1~50):10\n"
     ]
    },
    {
     "data": {
      "text/plain": [
       "[{'姓名': '林麗萍', '國文': 57, '英文': 89, '數學': 62, '地理': 82, '歷史': 74},\n",
       " {'姓名': '黃靜怡', '國文': 97, '英文': 72, '數學': 56, '地理': 88, '歷史': 48},\n",
       " {'姓名': '周家銘', '國文': 70, '英文': 74, '數學': 83, '地理': 91, '歷史': 100},\n",
       " {'姓名': '楊建安', '國文': 57, '英文': 63, '數學': 72, '地理': 90, '歷史': 84},\n",
       " {'姓名': '吳俐芷', '國文': 88, '英文': 49, '數學': 46, '地理': 61, '歷史': 54},\n",
       " {'姓名': '林群清', '國文': 67, '英文': 97, '數學': 92, '地理': 83, '歷史': 71},\n",
       " {'姓名': '藍姿婷', '國文': 99, '英文': 55, '數學': 99, '地理': 97, '歷史': 75},\n",
       " {'姓名': '藍姿婷', '國文': 72, '英文': 75, '數學': 56, '地理': 70, '歷史': 69},\n",
       " {'姓名': '李慈啟', '國文': 75, '英文': 64, '數學': 46, '地理': 78, '歷史': 75},\n",
       " {'姓名': '吳孟穎', '國文': 85, '英文': 85, '數學': 47, '地理': 96, '歷史': 64}]"
      ]
     },
     "execution_count": 17,
     "metadata": {},
     "output_type": "execute_result"
    }
   ],
   "source": [
    "import pyinputplus as pyip\n",
    "s_nums:int = pyip.inputInt(\"請輸入學生的人數(1~50):\",min=1,max=50)\n",
    "print(s_nums)\n",
    "students = getStudents(s_nums)\n",
    "students "
   ]
  }
 ],
 "metadata": {
  "kernelspec": {
   "display_name": "Python 3",
   "language": "python",
   "name": "python3"
  },
  "language_info": {
   "codemirror_mode": {
    "name": "ipython",
    "version": 3
   },
   "file_extension": ".py",
   "mimetype": "text/x-python",
   "name": "python",
   "nbconvert_exporter": "python",
   "pygments_lexer": "ipython3",
   "version": "3.10.14"
  }
 },
 "nbformat": 4,
 "nbformat_minor": 2
}
