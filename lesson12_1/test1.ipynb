{
 "cells": [
  {
   "cell_type": "code",
   "execution_count": 1,
   "metadata": {},
   "outputs": [],
   "source": [
    "stu1 = {\n",
    "    '姓名':'陳怡伶',\n",
    "    '國文':89,\n",
    "    '英文':92,\n",
    "    '數學':83,\n",
    "    '地理':91,\n",
    "    '歷史':65,\n",
    "    }\n",
    "stu2 = {\n",
    "    '姓名':'馮芳如',\n",
    "    '國文':92,\n",
    "    '英文':75,\n",
    "    '數學':92,\n",
    "    '地理':89,\n",
    "    '歷史':77,\n",
    "    }\n"
   ]
  },
  {
   "cell_type": "code",
   "execution_count": 2,
   "metadata": {},
   "outputs": [
    {
     "data": {
      "text/plain": [
       "[{'姓名': '陳怡伶', '國文': 89, '英文': 92, '數學': 83, '地理': 91, '歷史': 65},\n",
       " {'姓名': '馮芳如', '國文': 92, '英文': 75, '數學': 92, '地理': 89, '歷史': 77}]"
      ]
     },
     "execution_count": 2,
     "metadata": {},
     "output_type": "execute_result"
    }
   ],
   "source": [
    "students = [stu1,stu2]\n",
    "students"
   ]
  },
  {
   "cell_type": "code",
   "execution_count": 3,
   "metadata": {},
   "outputs": [],
   "source": [
    "from random import randint,choices\n",
    "\n",
    "def getStudents(nums:int) -> list[dict]:\n",
    "    students:list[dict] = []\n",
    "    with open('names.txt',mode='r',encoding='utf-8') as file:\n",
    "        names:str = file.read()\n",
    "    nameList:list[str]=names.split('\\n')\n",
    "    names:list[str] = choices(nameList, k=nums)\n",
    "    \n",
    "    for i in range(nums):\n",
    "        stu = {\n",
    "            '姓名':names[i],\n",
    "            '國文':randint(45,100),\n",
    "            '英文':randint(45,100),\n",
    "            '數學':randint(45,100),\n",
    "            '地理':randint(45,100),\n",
    "            '歷史':randint(45,100),\n",
    "            }\n",
    "        students.append(stu)\n",
    "    \n",
    "    return students\n",
    "    "
   ]
  },
  {
   "cell_type": "code",
   "execution_count": 4,
   "metadata": {},
   "outputs": [
    {
     "ename": "ModuleNotFoundError",
     "evalue": "No module named 'pyinputplus'",
     "output_type": "error",
     "traceback": [
      "\u001b[0;31m---------------------------------------------------------------------------\u001b[0m",
      "\u001b[0;31mModuleNotFoundError\u001b[0m                       Traceback (most recent call last)",
      "Cell \u001b[0;32mIn[4], line 1\u001b[0m\n\u001b[0;32m----> 1\u001b[0m \u001b[38;5;28;01mimport\u001b[39;00m \u001b[38;5;21;01mpyinputplus\u001b[39;00m \u001b[38;5;28;01mas\u001b[39;00m \u001b[38;5;21;01mpyip\u001b[39;00m\n\u001b[1;32m      2\u001b[0m s_nums:\u001b[38;5;28mint\u001b[39m \u001b[38;5;241m=\u001b[39m pyip\u001b[38;5;241m.\u001b[39minputInt(\u001b[38;5;124m\"\u001b[39m\u001b[38;5;124m請輸入學生的人數(1~50):\u001b[39m\u001b[38;5;124m\"\u001b[39m,\u001b[38;5;28mmin\u001b[39m\u001b[38;5;241m=\u001b[39m\u001b[38;5;241m1\u001b[39m,\u001b[38;5;28mmax\u001b[39m\u001b[38;5;241m=\u001b[39m\u001b[38;5;241m50\u001b[39m)\n\u001b[1;32m      3\u001b[0m \u001b[38;5;28mprint\u001b[39m(s_nums)\n",
      "\u001b[0;31mModuleNotFoundError\u001b[0m: No module named 'pyinputplus'"
     ]
    }
   ],
   "source": [
    "import pyinputplus as pyip\n",
    "s_nums:int = pyip.inputInt(\"請輸入學生的人數(1~50):\",min=1,max=50)\n",
    "print(s_nums)\n",
    "students = getStudents(s_nums)\n",
    "students"
   ]
  }
 ],
 "metadata": {
  "kernelspec": {
   "display_name": "Python 3",
   "language": "python",
   "name": "python3"
  },
  "language_info": {
   "codemirror_mode": {
    "name": "ipython",
    "version": 3
   },
   "file_extension": ".py",
   "mimetype": "text/x-python",
   "name": "python",
   "nbconvert_exporter": "python",
   "pygments_lexer": "ipython3",
   "version": "3.10.14"
  }
 },
 "nbformat": 4,
 "nbformat_minor": 2
}
