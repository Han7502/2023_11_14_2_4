{
 "cells": [
  {
   "cell_type": "code",
   "execution_count": 9,
   "metadata": {},
   "outputs": [
    {
     "data": {
      "text/plain": [
       "365"
      ]
     },
     "execution_count": 9,
     "metadata": {},
     "output_type": "execute_result"
    }
   ],
   "source": [
    "import pandas as pd\n",
    "from sqlalchemy import create_engine\n",
    "\n",
    "dataFrame = pd.read_csv(\"world.csv\",usecols=['國家','日期','總確診數','新增確診數'])\n",
    "dataFrame['日期'] = pd.to_datetime(dataFrame['日期'])\n",
    "taiwan2021 = dataFrame.query('國家==\"台灣\"')\n",
    "cov19 = taiwan2021.query('日期>=\"2021-01-01\" and 日期<\"2022-01-01\"')\n",
    "engine = create_engine(\"sqlite:///cov19.db\")\n",
    "cov19.to_sql('台灣2021',engine,if_exists='replace',index=False)"
   ]
  }
 ],
 "metadata": {
  "kernelspec": {
   "display_name": "Python 3",
   "language": "python",
   "name": "python3"
  },
  "language_info": {
   "codemirror_mode": {
    "name": "ipython",
    "version": 3
   },
   "file_extension": ".py",
   "mimetype": "text/x-python",
   "name": "python",
   "nbconvert_exporter": "python",
   "pygments_lexer": "ipython3",
   "version": "3.10.14"
  }
 },
 "nbformat": 4,
 "nbformat_minor": 2
}
