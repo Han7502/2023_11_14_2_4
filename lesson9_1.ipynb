{
 "cells": [
  {
   "cell_type": "code",
   "execution_count": 3,
   "metadata": {},
   "outputs": [
    {
     "data": {
      "text/plain": [
       "1"
      ]
     },
     "metadata": {},
     "output_type": "display_data"
    },
    {
     "data": {
      "text/plain": [
       "__main__.Person"
      ]
     },
     "metadata": {},
     "output_type": "display_data"
    }
   ],
   "source": [
    "class Person:   #類別\n",
    "    pass\n",
    "\n",
    "p1 = Person()\n",
    "display(1)\n",
    "display(type(p1))"
   ]
  },
  {
   "cell_type": "code",
   "execution_count": 4,
   "metadata": {},
   "outputs": [
    {
     "name": "stdout",
     "output_type": "stream",
     "text": [
      "han\n",
      "35\n"
     ]
    }
   ],
   "source": [
    "#透過參考建立attribute(屬性)\n",
    "p1.name = \"han\"  #建立資料在 class Person裡\n",
    "p1.age = 35\n",
    "\n",
    "#取出attribute\n",
    "print(p1.name)\n",
    "print(p1.age)"
   ]
  }
 ],
 "metadata": {
  "kernelspec": {
   "display_name": "Python 3",
   "language": "python",
   "name": "python3"
  },
  "language_info": {
   "codemirror_mode": {
    "name": "ipython",
    "version": 3
   },
   "file_extension": ".py",
   "mimetype": "text/x-python",
   "name": "python",
   "nbconvert_exporter": "python",
   "pygments_lexer": "ipython3",
   "version": "3.10.13"
  }
 },
 "nbformat": 4,
 "nbformat_minor": 2
}
